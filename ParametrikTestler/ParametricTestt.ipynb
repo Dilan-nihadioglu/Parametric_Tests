{
 "cells": [
  {
   "cell_type": "markdown",
   "id": "0bf97073-ce93-45a8-88f6-00361e9b439d",
   "metadata": {},
   "source": [
    "# 4. Parametrik İstatistiksel Hipotez Testleri\n",
    "- Bu bölümde, veri örneklerini karşılaştırmak için kullanabileceğiniz istatistiksel testler listelenmektedir."
   ]
  },
  {
   "cell_type": "markdown",
   "id": "f2552a4d-3c7b-4782-92bf-e4eac6351578",
   "metadata": {},
   "source": [
    "## 1)Öğrencinin t-testi\r",
    "- \n",
    "İki bağımsız numunenin ortalamalarının önemli ölçüde farklı olup olmadığını test eder."
   ]
  },
  {
   "cell_type": "code",
   "execution_count": 10,
   "id": "8503a612-686f-4b2b-9ced-be72463cd09a",
   "metadata": {},
   "outputs": [],
   "source": [
    "import pandas as pd\n",
    "import scipy.stats as stats\n",
    "import matplotlib.pyplot as plt\n",
    "import numpy as np\n",
    "import seaborn as sns"
   ]
  },
  {
   "cell_type": "code",
   "execution_count": 14,
   "id": "d5f19275-0651-4f7b-944d-f50ce7cba530",
   "metadata": {},
   "outputs": [
    {
     "data": {
      "text/html": [
       "<div>\n",
       "<style scoped>\n",
       "    .dataframe tbody tr th:only-of-type {\n",
       "        vertical-align: middle;\n",
       "    }\n",
       "\n",
       "    .dataframe tbody tr th {\n",
       "        vertical-align: top;\n",
       "    }\n",
       "\n",
       "    .dataframe thead th {\n",
       "        text-align: right;\n",
       "    }\n",
       "</style>\n",
       "<table border=\"1\" class=\"dataframe\">\n",
       "  <thead>\n",
       "    <tr style=\"text-align: right;\">\n",
       "      <th></th>\n",
       "      <th>Current</th>\n",
       "      <th>New</th>\n",
       "    </tr>\n",
       "  </thead>\n",
       "  <tbody>\n",
       "    <tr>\n",
       "      <th>0</th>\n",
       "      <td>264</td>\n",
       "      <td>277</td>\n",
       "    </tr>\n",
       "    <tr>\n",
       "      <th>1</th>\n",
       "      <td>261</td>\n",
       "      <td>269</td>\n",
       "    </tr>\n",
       "    <tr>\n",
       "      <th>2</th>\n",
       "      <td>267</td>\n",
       "      <td>263</td>\n",
       "    </tr>\n",
       "  </tbody>\n",
       "</table>\n",
       "</div>"
      ],
      "text/plain": [
       "   Current  New\n",
       "0      264  277\n",
       "1      261  269\n",
       "2      267  263"
      ]
     },
     "execution_count": 14,
     "metadata": {},
     "output_type": "execute_result"
    }
   ],
   "source": [
    "df = pd.read_csv(\"Golf.csv\")\n",
    "df.head(3)"
   ]
  },
  {
   "cell_type": "markdown",
   "id": "df8c14e7-91b5-44a7-8ccb-57ff8a32461b",
   "metadata": {},
   "source": [
    "**Soru1 :** \"Current\" ve \"New\" örneklerinin ortalamalarının anlamlı bir şekilde farklı olup olmadığını test etmek istiyoruz.\n",
    "- **H0**:\"Current\" ve \"New\" örneklerinin ortalamaları arasında anlamlı bir fark yoktur. \n",
    "- **H1**:\"Current\" ve \"New\" örneklerinin ortalamaları arasında anlamlı bir fark vardır. "
   ]
  },
  {
   "cell_type": "code",
   "execution_count": 42,
   "id": "185fca5c-d7e0-41ac-afcc-dcc0d1f84666",
   "metadata": {},
   "outputs": [
    {
     "name": "stdout",
     "output_type": "stream",
     "text": [
      "stat=0.971, p=0.379\n",
      "H0 kabul edilir,veri normal dağılmıştır.\n"
     ]
    }
   ],
   "source": [
    "# Normalliği kontrol edelim\n",
    "from scipy.stats import shapiro\n",
    "w_stat,p_value1 = stats.shapiro(df[\"Current\"])\n",
    "print('stat=%.3f, p=%.3f' % (w_stat, p_value1))\n",
    "#Sonucu yorumlama\n",
    "alpha = 0.05\n",
    "if p_value1>alpha:\n",
    "    print(\"H0 kabul edilir,veri normal dağılmıştır.\")\n",
    "else:\n",
    "    print(\"H0 reddedilir,veri normal dağılmamıştır.\")"
   ]
  },
  {
   "cell_type": "code",
   "execution_count": 23,
   "id": "cf109b22-885d-4d60-b1bb-07fcbcbfe3ae",
   "metadata": {},
   "outputs": [
    {
     "name": "stdout",
     "output_type": "stream",
     "text": [
      "stat=0.968, p=0.306\n",
      "H0 kabul edilir,veri normal dağılmıştır.\n"
     ]
    }
   ],
   "source": [
    "# Normalliği kontrol edelim\n",
    "from scipy.stats import shapiro\n",
    "w_stat,p_value1 = stats.shapiro(df[\"New\"])\n",
    "print('stat=%.3f, p=%.3f' % (w_stat, p_value1))\n",
    "#Sonucu yorumlama\n",
    "alpha = 0.05\n",
    "if p_value1>alpha:\n",
    "    print(\"H0 kabul edilir,veri normal dağılmıştır.\")\n",
    "else:\n",
    "    print(\"H0 reddedilir,veri normal dağılmamıştır.\")"
   ]
  },
  {
   "cell_type": "code",
   "execution_count": 29,
   "id": "194cf45d-4f3a-48c8-a823-8e75c39a24bb",
   "metadata": {},
   "outputs": [
    {
     "name": "stdout",
     "output_type": "stream",
     "text": [
      "stat=-1.328, p=0.188\n",
      "H0 kabul edilir .Current ve New örneklerinin ortalamaları arasında anlamlı bir fark yoktur.\n"
     ]
    }
   ],
   "source": [
    "from scipy.stats import ttest_ind\n",
    "data1 = df[\"New\"]\n",
    "data2 = df[\"Current\"]\n",
    "stat, p = ttest_ind(data1, data2)\n",
    "print('stat=%.3f, p=%.3f' % (stat, p))\n",
    "if p > 0.05:\n",
    " print(\"H0 kabul edilir .Current ve New örneklerinin ortalamaları arasında anlamlı bir fark yoktur.\")\n",
    "else:\n",
    " print(\"H0 reddedilir.Current ve New örneklerinin ortalamaları arasında anlamlı bir fark yoktur.\")"
   ]
  },
  {
   "cell_type": "markdown",
   "id": "d8567628-c370-4ff4-a3e8-03919bca76bf",
   "metadata": {},
   "source": [
    "## 2)Eşleştirilmiş öğrenci t-testi\n",
    "- Ölçülen ortalamalar tek bir popülasyondan gelmeli.\n",
    "- Eşleştirilmiş t-testi, aynı öğrencilerin farklı derslerdeki performanslarını karşılaştırmak için kullanılabilir."
   ]
  },
  {
   "cell_type": "code",
   "execution_count": 55,
   "id": "ebe1b522-5e4d-4249-8055-a885de53233a",
   "metadata": {},
   "outputs": [
    {
     "data": {
      "text/html": [
       "<div>\n",
       "<style scoped>\n",
       "    .dataframe tbody tr th:only-of-type {\n",
       "        vertical-align: middle;\n",
       "    }\n",
       "\n",
       "    .dataframe tbody tr th {\n",
       "        vertical-align: top;\n",
       "    }\n",
       "\n",
       "    .dataframe thead th {\n",
       "        text-align: right;\n",
       "    }\n",
       "</style>\n",
       "<table border=\"1\" class=\"dataframe\">\n",
       "  <thead>\n",
       "    <tr style=\"text-align: right;\">\n",
       "      <th></th>\n",
       "      <th>school</th>\n",
       "      <th>sex</th>\n",
       "      <th>age</th>\n",
       "      <th>address</th>\n",
       "      <th>famsize</th>\n",
       "      <th>Pstatus</th>\n",
       "      <th>Medu</th>\n",
       "      <th>Fedu</th>\n",
       "      <th>Mjob</th>\n",
       "      <th>Fjob</th>\n",
       "      <th>...</th>\n",
       "      <th>famrel</th>\n",
       "      <th>freetime</th>\n",
       "      <th>goout</th>\n",
       "      <th>Dalc</th>\n",
       "      <th>Walc</th>\n",
       "      <th>health</th>\n",
       "      <th>absences</th>\n",
       "      <th>G1</th>\n",
       "      <th>G2</th>\n",
       "      <th>G3</th>\n",
       "    </tr>\n",
       "  </thead>\n",
       "  <tbody>\n",
       "    <tr>\n",
       "      <th>0</th>\n",
       "      <td>GP</td>\n",
       "      <td>F</td>\n",
       "      <td>18</td>\n",
       "      <td>U</td>\n",
       "      <td>GT3</td>\n",
       "      <td>A</td>\n",
       "      <td>4</td>\n",
       "      <td>4</td>\n",
       "      <td>at_home</td>\n",
       "      <td>teacher</td>\n",
       "      <td>...</td>\n",
       "      <td>4</td>\n",
       "      <td>3</td>\n",
       "      <td>4</td>\n",
       "      <td>1</td>\n",
       "      <td>1</td>\n",
       "      <td>3</td>\n",
       "      <td>4</td>\n",
       "      <td>0</td>\n",
       "      <td>11</td>\n",
       "      <td>11</td>\n",
       "    </tr>\n",
       "    <tr>\n",
       "      <th>1</th>\n",
       "      <td>GP</td>\n",
       "      <td>F</td>\n",
       "      <td>17</td>\n",
       "      <td>U</td>\n",
       "      <td>GT3</td>\n",
       "      <td>T</td>\n",
       "      <td>1</td>\n",
       "      <td>1</td>\n",
       "      <td>at_home</td>\n",
       "      <td>other</td>\n",
       "      <td>...</td>\n",
       "      <td>5</td>\n",
       "      <td>3</td>\n",
       "      <td>3</td>\n",
       "      <td>1</td>\n",
       "      <td>1</td>\n",
       "      <td>3</td>\n",
       "      <td>2</td>\n",
       "      <td>9</td>\n",
       "      <td>11</td>\n",
       "      <td>11</td>\n",
       "    </tr>\n",
       "    <tr>\n",
       "      <th>2</th>\n",
       "      <td>GP</td>\n",
       "      <td>F</td>\n",
       "      <td>15</td>\n",
       "      <td>U</td>\n",
       "      <td>LE3</td>\n",
       "      <td>T</td>\n",
       "      <td>1</td>\n",
       "      <td>1</td>\n",
       "      <td>at_home</td>\n",
       "      <td>other</td>\n",
       "      <td>...</td>\n",
       "      <td>4</td>\n",
       "      <td>3</td>\n",
       "      <td>2</td>\n",
       "      <td>2</td>\n",
       "      <td>3</td>\n",
       "      <td>3</td>\n",
       "      <td>6</td>\n",
       "      <td>12</td>\n",
       "      <td>13</td>\n",
       "      <td>12</td>\n",
       "    </tr>\n",
       "  </tbody>\n",
       "</table>\n",
       "<p>3 rows × 33 columns</p>\n",
       "</div>"
      ],
      "text/plain": [
       "  school sex  age address famsize Pstatus  Medu  Fedu     Mjob     Fjob  ...  \\\n",
       "0     GP   F   18       U     GT3       A     4     4  at_home  teacher  ...   \n",
       "1     GP   F   17       U     GT3       T     1     1  at_home    other  ...   \n",
       "2     GP   F   15       U     LE3       T     1     1  at_home    other  ...   \n",
       "\n",
       "  famrel freetime  goout  Dalc  Walc health absences  G1  G2  G3  \n",
       "0      4        3      4     1     1      3        4   0  11  11  \n",
       "1      5        3      3     1     1      3        2   9  11  11  \n",
       "2      4        3      2     2     3      3        6  12  13  12  \n",
       "\n",
       "[3 rows x 33 columns]"
      ]
     },
     "execution_count": 55,
     "metadata": {},
     "output_type": "execute_result"
    }
   ],
   "source": [
    "df = pd.read_csv(\"student-por.csv\")\n",
    "df.head(3)"
   ]
  },
  {
   "cell_type": "markdown",
   "id": "53092b1f-fa6e-4d77-9b1e-e9b7e1cecfac",
   "metadata": {},
   "source": [
    "**Soru 2 :** Bir öğretmen, öğrencilerin birinci ve ikinci dönem (G1 ve G2) notları arasında anlamlı bir fark olup olmadığını incelemek istiyor. Öğretmen, farklı dönemlerde uygulanan öğretim yöntemlerinin veya sınavların, öğrencilerin akademik performansını etkileyip etkilemediğini anlamak istiyor.Öğrencilerin birinci dönem (G1) ve ikinci dönem (G2) notları arasında anlamlı bir fark var mı?\n",
    "- Null Hipotez (H₀): Öğrencilerin birinci dönem (G1) ve ikinci dönem (G2) notları arasında anlamlı bir fark yoktur.\n",
    "- Alternatif Hipotez (H₁): Öğrencilerin birinci dönem (G1) ve ikinci dönem (G2) notları arasında anlamlı bir fark vardır."
   ]
  },
  {
   "cell_type": "code",
   "execution_count": 62,
   "id": "a09fa989-0961-41c6-96d4-864594dbba4b",
   "metadata": {},
   "outputs": [],
   "source": [
    "from scipy.stats import ttest_rel"
   ]
  },
  {
   "cell_type": "code",
   "execution_count": 64,
   "id": "c74b99ff-27c5-46ae-a733-90f5caec3faf",
   "metadata": {},
   "outputs": [
    {
     "name": "stdout",
     "output_type": "stream",
     "text": [
      "T-Statistic: -2.9454228952508927\n",
      "P-Value: 0.0033408101677699924\n"
     ]
    }
   ],
   "source": [
    "# Eşleştirilmiş t-testi uygulama (G1 ve G2 karşılaştırması)\n",
    "t_stat, p_value = ttest_rel(df['G1'], df['G2'])\n",
    "\n",
    "# Sonuçları yazdırma\n",
    "print('T-Statistic:', t_stat)\n",
    "print('P-Value:', p_value)"
   ]
  },
  {
   "cell_type": "code",
   "execution_count": 66,
   "id": "dffe9fc9-a7be-4e6d-af2b-a823971f4f31",
   "metadata": {},
   "outputs": [
    {
     "name": "stdout",
     "output_type": "stream",
     "text": [
      "Null Hipotez reddedilir; G1 ve G2 arasında anlamlı bir fark vardır.\n"
     ]
    }
   ],
   "source": [
    "# Sonuçları yorumlama\n",
    "alpha = 0.05\n",
    "if p_value < alpha:\n",
    "    print(\"Null Hipotez reddedilir; G1 ve G2 arasında anlamlı bir fark vardır.\")\n",
    "else:\n",
    "    print(\"Null Hipotez reddedilemez; G1 ve G2 arasında anlamlı bir fark yoktur.\")"
   ]
  },
  {
   "cell_type": "markdown",
   "id": "ae1c48af-e8f2-4eee-92fc-9c645530e149",
   "metadata": {},
   "source": [
    "## 3)Tek Yönlü ANOVA (One-Way ANOVA)\n",
    "- 2 ve daha çok bağımsız grubun ortalamalarını\n",
    "karşılaştırma için kullanılabilecek parametrik bir analiz\n",
    "yöntemidir.\n"
   ]
  },
  {
   "cell_type": "markdown",
   "id": "6aa64430-7cbc-4956-8c43-8415165f6c21",
   "metadata": {},
   "source": [
    "**Soru 1 :** İlaç malzemelerinin kalitesini karakterize etmek amacıyla üç test yöntemi\n",
    "kullanılmış ve bu test yöntemlerinden elde edilen sonuçlar karşılaştırılmak\n",
    "istenmektedir. Özellikle, her test yöntemi için dört tablet olmak üzere, üç\n",
    "test yönteminin karşılaştırması için rastgele 12 tabletin seçildiğini\n",
    "varsayalım. Üç analitik test yöntemini karşılaştıran deneylerin sonuçları\n",
    "aşağıdaki tabloda gösterilmektedir.Bu üç yöntemin ortalamaları arasında fark olup olmadığını 0,05 yanılma\n",
    "düzeyinde araştırınız.\n",
    "- **H0**: Üç yöntemin ortalamaları arasında fark\n",
    "yoktur (μ1= μ2= μ3).\n",
    "- **H1**: En az bir yönteme ilişkin ortalama\n",
    "diğerlerinden farklıdır (μ𝑖≠ μ𝑗\n",
    ")."
   ]
  },
  {
   "cell_type": "code",
   "execution_count": 21,
   "id": "ead3605e-7291-453c-bb37-7b12ee9f8479",
   "metadata": {},
   "outputs": [
    {
     "name": "stdout",
     "output_type": "stream",
     "text": [
      "      Yöntem  Değer\n",
      "0   Yöntem A  312.2\n",
      "1   Yöntem A  310.5\n",
      "2   Yöntem A  309.8\n",
      "3   Yöntem A  313.1\n",
      "4   Yöntem B  308.4\n",
      "5   Yöntem B  309.2\n",
      "6   Yöntem B  306.6\n",
      "7   Yöntem B  307.8\n",
      "8   Yöntem C  309.8\n",
      "9   Yöntem C  310.5\n",
      "10  Yöntem C  307.3\n",
      "11  Yöntem C  307.5\n"
     ]
    }
   ],
   "source": [
    "import numpy as np\n",
    "import pandas as pd\n",
    "import scipy.stats as stats\n",
    "\n",
    "# Verileri tanımlayalım\n",
    "data = {\n",
    "    'Yöntem A': [312.2, 310.5, 309.8, 313.1],\n",
    "    'Yöntem B': [308.4, 309.2, 306.6, 307.8],\n",
    "    'Yöntem C': [309.8, 310.5, 307.3, 307.5]\n",
    "}\n",
    "\n",
    "# DataFrame'e dönüştürelim\n",
    "df = pd.DataFrame(data)\n",
    "\n",
    "# Veriyi uzun forma dönüştürelim\n",
    "df_melt = df.melt(var_name='Yöntem', value_name='Değer')\n",
    "print(df_melt)\n"
   ]
  },
  {
   "cell_type": "code",
   "execution_count": 24,
   "id": "bf67c178-a212-4528-b02e-8b003cbfc025",
   "metadata": {},
   "outputs": [
    {
     "name": "stdout",
     "output_type": "stream",
     "text": [
      "ANOVA F değeri: 6.236939026053793\n",
      "p-değeri: 0.01997533729555736\n",
      "Sonuç: Yöntemler arasında istatistiksel olarak anlamlı fark vardır (H0 reddedilir).\n"
     ]
    }
   ],
   "source": [
    "# Tek Yönlü ANOVA testi\n",
    "fvalue, pvalue = stats.f_oneway(df['Yöntem A'], df['Yöntem B'], df['Yöntem C'])\n",
    "\n",
    "print(\"ANOVA F değeri:\", fvalue)\n",
    "print(\"p-değeri:\", pvalue)\n",
    "\n",
    "# Sonucu yorumlayalım\n",
    "alpha = 0.05\n",
    "if pvalue < alpha:\n",
    "    print(\"Sonuç: Yöntemler arasında istatistiksel olarak anlamlı fark vardır (H0 reddedilir).\")\n",
    "else:\n",
    "    print(\"Sonuç: Yöntemler arasında istatistiksel olarak anlamlı fark yoktur (H0 kabul edilir).\")\n"
   ]
  },
  {
   "cell_type": "markdown",
   "id": "b222b965-3e6f-4f20-9586-359f17072ae5",
   "metadata": {},
   "source": [
    "- %95 güven düzeyinde en az bir yöntemin\n",
    "ortalamasının diğerlerinden farklı olduğu\n",
    "söylenir."
   ]
  },
  {
   "cell_type": "markdown",
   "id": "7d0d7e2c-211a-4c8e-b804-8ea3cea3d670",
   "metadata": {},
   "source": [
    "## 4)Tekrarlı Ölçümler ANOVA"
   ]
  },
  {
   "cell_type": "markdown",
   "id": "2091826b-be07-4822-a6c8-3e990af97ac8",
   "metadata": {},
   "source": [
    "- Tekrarlı ölçümler ANOVA üç veya daha fazla grup ortalamalarının karşılaştırılmasında kullanılmaktadır.\n",
    "- Burada her grup verisi aynı elemanlardan toplanmış olmalıdır.\n",
    "- Bu genelde iki durumda ortaya çıkar:\n",
    "- (1) bir deneyin daha müdahalenin etkisini görmek amacıyla katılımcılardan birden fazla zaman noktasında veri toplandığında\n",
    "- (2) katılımcılar birden fazla deneye ya da duruma maruz kaldıklarında ve bu farklı durumlara verilen cevaplar karşılaştırılmak istendiğinde"
   ]
  },
  {
   "cell_type": "markdown",
   "id": "1add35b9-84dd-46f2-9491-902fec3cd615",
   "metadata": {},
   "source": [
    "**Soru 1:** 8 kişiden üç farklı zamanda elde edilen üç farklı testin sonucu arasında bir fark olup olmadığını inceleyin."
   ]
  },
  {
   "cell_type": "code",
   "execution_count": 47,
   "id": "36e5494e-1378-4018-b1b7-73b94accaf42",
   "metadata": {},
   "outputs": [
    {
     "data": {
      "text/html": [
       "<div>\n",
       "<style scoped>\n",
       "    .dataframe tbody tr th:only-of-type {\n",
       "        vertical-align: middle;\n",
       "    }\n",
       "\n",
       "    .dataframe tbody tr th {\n",
       "        vertical-align: top;\n",
       "    }\n",
       "\n",
       "    .dataframe thead th {\n",
       "        text-align: right;\n",
       "    }\n",
       "</style>\n",
       "<table border=\"1\" class=\"dataframe\">\n",
       "  <thead>\n",
       "    <tr style=\"text-align: right;\">\n",
       "      <th></th>\n",
       "      <th>katılımcı</th>\n",
       "      <th>test1</th>\n",
       "      <th>test2</th>\n",
       "      <th>test3</th>\n",
       "    </tr>\n",
       "  </thead>\n",
       "  <tbody>\n",
       "    <tr>\n",
       "      <th>0</th>\n",
       "      <td>1</td>\n",
       "      <td>300.0</td>\n",
       "      <td>160.0</td>\n",
       "      <td>155.0</td>\n",
       "    </tr>\n",
       "    <tr>\n",
       "      <th>1</th>\n",
       "      <td>2</td>\n",
       "      <td>240.0</td>\n",
       "      <td>110.0</td>\n",
       "      <td>100.0</td>\n",
       "    </tr>\n",
       "    <tr>\n",
       "      <th>2</th>\n",
       "      <td>3</td>\n",
       "      <td>160.0</td>\n",
       "      <td>90.0</td>\n",
       "      <td>55.0</td>\n",
       "    </tr>\n",
       "    <tr>\n",
       "      <th>3</th>\n",
       "      <td>4</td>\n",
       "      <td>220.0</td>\n",
       "      <td>125.0</td>\n",
       "      <td>120.0</td>\n",
       "    </tr>\n",
       "    <tr>\n",
       "      <th>4</th>\n",
       "      <td>5</td>\n",
       "      <td>75.0</td>\n",
       "      <td>48.0</td>\n",
       "      <td>70.0</td>\n",
       "    </tr>\n",
       "  </tbody>\n",
       "</table>\n",
       "</div>"
      ],
      "text/plain": [
       "   katılımcı  test1  test2  test3\n",
       "0          1  300.0  160.0  155.0\n",
       "1          2  240.0  110.0  100.0\n",
       "2          3  160.0   90.0   55.0\n",
       "3          4  220.0  125.0  120.0\n",
       "4          5   75.0   48.0   70.0"
      ]
     },
     "execution_count": 47,
     "metadata": {},
     "output_type": "execute_result"
    }
   ],
   "source": [
    "import pandas as pd\n",
    "\n",
    "# Create a DataFrame with the data shown in the image\n",
    "data = {\n",
    "    'katılımcı': [1, 2, 3, 4, 5, 6, 7, 8],\n",
    "    'test1': [300.00, 240.00, 160.00, 220.00, 75.00, 130.00, 180.00, 120.00],\n",
    "    'test2': [160.00, 110.00, 90.00, 125.00, 48.00, 70.00, 130.00, 64.00],\n",
    "    'test3': [155.00, 100.00, 55.00, 120.00, 70.00, 50.00, 80.00, 80.00]\n",
    "}\n",
    "\n",
    "df = pd.DataFrame(data)\n",
    "df.head()"
   ]
  },
  {
   "cell_type": "code",
   "execution_count": 50,
   "id": "c2af874f-33f7-4804-b1e1-088af396fa2b",
   "metadata": {},
   "outputs": [
    {
     "data": {
      "text/html": [
       "<table class=\"simpletable\">\n",
       "<tr>\n",
       "    <td></td>   <th>F Value</th> <th>Num DF</th> <th>Den DF</th>  <th>Pr > F</th>\n",
       "</tr>\n",
       "<tr>\n",
       "  <th>test</th> <td>25.8312</td> <td>2.0000</td> <td>14.0000</td> <td>0.0000</td>\n",
       "</tr>\n",
       "</table><br/>\n"
      ],
      "text/latex": [
       "\\begin{table}\n",
       "\\caption{Anova}\n",
       "\\label{}\n",
       "\\begin{center}\n",
       "\\begin{tabular}{lrrrr}\n",
       "\\hline\n",
       "     & F Value & Num DF &  Den DF & Pr $>$ F  \\\\\n",
       "\\hline\n",
       "test & 25.8312 & 2.0000 & 14.0000 &   0.0000  \\\\\n",
       "\\hline\n",
       "\\end{tabular}\n",
       "\\end{center}\n",
       "\\end{table}\n",
       "\\bigskip\n"
      ],
      "text/plain": [
       "<class 'statsmodels.iolib.summary2.Summary'>\n",
       "\"\"\"\n",
       "              Anova\n",
       "==================================\n",
       "     F Value Num DF  Den DF Pr > F\n",
       "----------------------------------\n",
       "test 25.8312 2.0000 14.0000 0.0000\n",
       "==================================\n",
       "\n",
       "\"\"\""
      ]
     },
     "execution_count": 50,
     "metadata": {},
     "output_type": "execute_result"
    }
   ],
   "source": [
    "import statsmodels.api as sm\n",
    "from statsmodels.formula.api import ols\n",
    "from statsmodels.stats.anova import AnovaRM\n",
    "\n",
    "# Reshape the DataFrame to long format\n",
    "df_long = pd.melt(df, id_vars=['katılımcı'], value_vars=['test1', 'test2', 'test3'],\n",
    "                  var_name='test', value_name='score')\n",
    "\n",
    "# Convert 'katılımcı' to a categorical variable\n",
    "df_long['katılımcı'] = df_long['katılımcı'].astype('category')\n",
    "\n",
    "# Perform Repeated Measures ANOVA\n",
    "aovrm = AnovaRM(df_long, 'score', 'katılımcı', within=['test'])\n",
    "res = aovrm.fit()\n",
    "\n",
    "res.summary()"
   ]
  },
  {
   "cell_type": "code",
   "execution_count": 68,
   "id": "4f638603-a0de-4fcd-b55e-d132ea2c3d90",
   "metadata": {},
   "outputs": [],
   "source": [
    "p_value = res.anova_table['Pr > F'].iloc[0]"
   ]
  },
  {
   "cell_type": "code",
   "execution_count": 70,
   "id": "b53203f6-3f1f-4c18-973a-f01c2105c39c",
   "metadata": {},
   "outputs": [
    {
     "data": {
      "text/plain": [
       "'Null hipotezi reddediyoruz, test sonuçları arasında anlamlı bir fark var.'"
      ]
     },
     "execution_count": 70,
     "metadata": {},
     "output_type": "execute_result"
    }
   ],
   "source": [
    "alpha=0.001\n",
    "if p_value < alpha:\n",
    "    decision = \"Null hipotezi reddediyoruz, test sonuçları arasında anlamlı bir fark var.\"\n",
    "else:\n",
    "    decision = \"Null hipotezi reddedemiyoruz, test sonuçları arasında anlamlı bir fark yok.\"\n",
    "\n",
    "decision"
   ]
  }
 ],
 "metadata": {
  "kernelspec": {
   "display_name": "Python 3 (ipykernel)",
   "language": "python",
   "name": "python3"
  },
  "language_info": {
   "codemirror_mode": {
    "name": "ipython",
    "version": 3
   },
   "file_extension": ".py",
   "mimetype": "text/x-python",
   "name": "python",
   "nbconvert_exporter": "python",
   "pygments_lexer": "ipython3",
   "version": "3.12.4"
  }
 },
 "nbformat": 4,
 "nbformat_minor": 5
}
